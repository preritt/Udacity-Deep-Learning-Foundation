{
 "cells": [
  {
   "cell_type": "markdown",
   "metadata": {
    "collapsed": true,
    "deletable": true,
    "editable": true
   },
   "source": [
    "# Image Classification\n",
    "In this project, you'll classify images from the [CIFAR-10 dataset](https://www.cs.toronto.edu/~kriz/cifar.html).  The dataset consists of airplanes, dogs, cats, and other objects. You'll preprocess the images, then train a convolutional neural network on all the samples. The images need to be normalized and the labels need to be one-hot encoded.  You'll get to apply what you learned and build a convolutional, max pooling, dropout, and fully connected layers.  At the end, you'll get to see your neural network's predictions on the sample images.\n",
    "## Get the Data\n",
    "Run the following cell to download the [CIFAR-10 dataset for python](https://www.cs.toronto.edu/~kriz/cifar-10-python.tar.gz)."
   ]
  },
  {
   "cell_type": "code",
   "execution_count": 1,
   "metadata": {
    "collapsed": false,
    "deletable": true,
    "editable": true
   },
   "outputs": [
    {
     "name": "stdout",
     "output_type": "stream",
     "text": [
      "All files found!\n"
     ]
    }
   ],
   "source": [
    "\"\"\"\n",
    "DON'T MODIFY ANYTHING IN THIS CELL THAT IS BELOW THIS LINE\n",
    "\"\"\"\n",
    "from urllib.request import urlretrieve\n",
    "from os.path import isfile, isdir\n",
    "from tqdm import tqdm\n",
    "import problem_unittests as tests\n",
    "import tarfile\n",
    "\n",
    "cifar10_dataset_folder_path = 'cifar-10-batches-py'\n",
    "\n",
    "class DLProgress(tqdm):\n",
    "    last_block = 0\n",
    "\n",
    "    def hook(self, block_num=1, block_size=1, total_size=None):\n",
    "        self.total = total_size\n",
    "        self.update((block_num - self.last_block) * block_size)\n",
    "        self.last_block = block_num\n",
    "\n",
    "if not isfile('cifar-10-python.tar.gz'):\n",
    "    with DLProgress(unit='B', unit_scale=True, miniters=1, desc='CIFAR-10 Dataset') as pbar:\n",
    "        urlretrieve(\n",
    "            'https://www.cs.toronto.edu/~kriz/cifar-10-python.tar.gz',\n",
    "            'cifar-10-python.tar.gz',\n",
    "            pbar.hook)\n",
    "\n",
    "if not isdir(cifar10_dataset_folder_path):\n",
    "    with tarfile.open('cifar-10-python.tar.gz') as tar:\n",
    "        tar.extractall()\n",
    "        tar.close()\n",
    "\n",
    "\n",
    "tests.test_folder_path(cifar10_dataset_folder_path)"
   ]
  },
  {
   "cell_type": "markdown",
   "metadata": {
    "deletable": true,
    "editable": true
   },
   "source": [
    "## Explore the Data\n",
    "The dataset is broken into batches to prevent your machine from running out of memory.  The CIFAR-10 dataset consists of 5 batches, named `data_batch_1`, `data_batch_2`, etc.. Each batch contains the labels and images that are one of the following:\n",
    "* airplane\n",
    "* automobile\n",
    "* bird\n",
    "* cat\n",
    "* deer\n",
    "* dog\n",
    "* frog\n",
    "* horse\n",
    "* ship\n",
    "* truck\n",
    "\n",
    "Understanding a dataset is part of making predictions on the data.  Play around with the code cell below by changing the `batch_id` and `sample_id`. The `batch_id` is the id for a batch (1-5). The `sample_id` is the id for a image and label pair in the batch.\n",
    "\n",
    "Ask yourself \"What are all possible labels?\", \"What is the range of values for the image data?\", \"Are the labels in order or random?\".  Answers to questions like these will help you preprocess the data and end up with better predictions."
   ]
  },
  {
   "cell_type": "code",
   "execution_count": 2,
   "metadata": {
    "collapsed": false,
    "deletable": true,
    "editable": true
   },
   "outputs": [
    {
     "name": "stdout",
     "output_type": "stream",
     "text": [
      "\n",
      "Stats of batch 2:\n",
      "Samples: 10000\n",
      "Label Counts: {0: 984, 1: 1007, 2: 1010, 3: 995, 4: 1010, 5: 988, 6: 1008, 7: 1026, 8: 987, 9: 985}\n",
      "First 20 Labels: [1, 6, 6, 8, 8, 3, 4, 6, 0, 6, 0, 3, 6, 6, 5, 4, 8, 3, 2, 6]\n",
      "\n",
      "Example of Image 55:\n",
      "Image - Min Value: 0 Max Value: 241\n",
      "Image - Shape: (32, 32, 3)\n",
      "Label - Label Id: 4 Name: deer\n"
     ]
    },
    {
     "data": {
      "image/png": "[encoded data removed]",
      "text/plain": [
       "<matplotlib.figure.Figure at 0x1a0519e1d68>"
      ]
     },
     "metadata": {
      "image/png": {
       "height": 250,
       "width": 253
      }
     },
     "output_type": "display_data"
    }
   ],
   "source": [
    "%matplotlib inline\n",
    "%config InlineBackend.figure_format = 'retina'\n",
    "\n",
    "import helper\n",
    "import numpy as np\n",
    "\n",
    "# Explore the dataset\n",
    "batch_id = 2\n",
    "sample_id = 55\n",
    "helper.display_stats(cifar10_dataset_folder_path, batch_id, sample_id)"
   ]
  },
  {
   "cell_type": "markdown",
   "metadata": {
    "deletable": true,
    "editable": true
   },
   "source": [
    "## Implement Preprocess Functions\n",
    "### Normalize\n",
    "In the cell below, implement the `normalize` function to take in image data, `x`, and return it as a normalized Numpy array. The values should be in the range of 0 to 1, inclusive.  The return object should be the same shape as `x`."
   ]
  },
  {
   "cell_type": "code",
   "execution_count": 3,
   "metadata": {
    "collapsed": false,
    "deletable": true,
    "editable": true
   },
   "outputs": [
    {
     "name": "stdout",
     "output_type": "stream",
     "text": [
      "Tests Passed\n"
     ]
    }
   ],
   "source": [
    "def normalize(x):\n",
    "    \"\"\"\n",
    "    Normalize a list of sample image data in the range of 0 to 1\n",
    "    : x: List of image data.  The image shape is (32, 32, 3)\n",
    "    : return: Numpy array of normalize data\n",
    "    \"\"\"\n",
    "    # TODO: Implement Function\n",
    "    return x/255\n",
    "\n",
    "\n",
    "\"\"\"\n",
    "DON'T MODIFY ANYTHING IN THIS CELL THAT IS BELOW THIS LINE\n",
    "\"\"\"\n",
    "tests.test_normalize(normalize)"
   ]
  },
  {
   "cell_type": "markdown",
   "metadata": {
    "deletable": true,
    "editable": true
   },
   "source": [
    "### One-hot encode\n",
    "Just like the previous code cell, you'll be implementing a function for preprocessing.  This time, you'll implement the `one_hot_encode` function. The input, `x`, are a list of labels.  Implement the function to return the list of labels as One-Hot encoded Numpy array.  The possible values for labels are 0 to 9. The one-hot encoding function should return the same encoding for each value between each call to `one_hot_encode`.  Make sure to save the map of encodings outside the function.\n",
    "\n",
    "Hint: Don't reinvent the wheel."
   ]
  },
  {
   "cell_type": "code",
   "execution_count": 4,
   "metadata": {
    "collapsed": false,
    "deletable": true,
    "editable": true
   },
   "outputs": [
    {
     "name": "stdout",
     "output_type": "stream",
     "text": [
      "Tests Passed\n"
     ]
    }
   ],
   "source": [
    "def one_hot_encode(x):\n",
    "    \"\"\"\n",
    "    One hot encode a list of sample labels. Return a one-hot encoded vector for each label.\n",
    "    : x: List of sample Labels\n",
    "    : return: Numpy array of one-hot encoded labels\n",
    "    \"\"\"\n",
    "    # TODO: Implement Function\n",
    "    ohe_x = np.zeros((len(x),10))\n",
    "    ohe_x[np.arange(len(x)),x] = 1\n",
    "    return ohe_x\n",
    "\n",
    "\n",
    "\"\"\"\n",
    "DON'T MODIFY ANYTHING IN THIS CELL THAT IS BELOW THIS LINE\n",
    "\"\"\"\n",
    "tests.test_one_hot_encode(one_hot_encode)"
   ]
  },
  {
   "cell_type": "markdown",
   "metadata": {
    "deletable": true,
    "editable": true
   },
   "source": [
    "### Randomize Data\n",
    "As you saw from exploring the data above, the order of the samples are randomized.  It doesn't hurt to randomize it again, but you don't need to for this dataset."
   ]
  },
  {
   "cell_type": "markdown",
   "metadata": {
    "deletable": true,
    "editable": true
   },
   "source": [
    "## Preprocess all the data and save it\n",
    "Running the code cell below will preprocess all the CIFAR-10 data and save it to file. The code below also uses 10% of the training data for validation."
   ]
  },
  {
   "cell_type": "code",
   "execution_count": 5,
   "metadata": {
    "collapsed": false,
    "deletable": true,
    "editable": true
   },
   "outputs": [],
   "source": [
    "\"\"\"\n",
    "DON'T MODIFY ANYTHING IN THIS CELL\n",
    "\"\"\"\n",
    "# Preprocess Training, Validation, and Testing Data\n",
    "helper.preprocess_and_save_data(cifar10_dataset_folder_path, normalize, one_hot_encode)"
   ]
  },
  {
   "cell_type": "markdown",
   "metadata": {
    "deletable": true,
    "editable": true
   },
   "source": [
    "# Check Point\n",
    "This is your first checkpoint.  If you ever decide to come back to this notebook or have to restart the notebook, you can start from here.  The preprocessed data has been saved to disk."
   ]
  },
  {
   "cell_type": "code",
   "execution_count": 6,
   "metadata": {
    "collapsed": false,
    "deletable": true,
    "editable": true
   },
   "outputs": [],
   "source": [
    "\"\"\"\n",
    "DON'T MODIFY ANYTHING IN THIS CELL\n",
    "\"\"\"\n",
    "import pickle\n",
    "import problem_unittests as tests\n",
    "import helper\n",
    "\n",
    "# Load the Preprocessed Validation data\n",
    "valid_features, valid_labels = pickle.load(open('preprocess_validation.p', mode='rb'))"
   ]
  },
  {
   "cell_type": "markdown",
   "metadata": {
    "deletable": true,
    "editable": true
   },
   "source": [
    "## Build the network\n",
    "For the neural network, you'll build each layer into a function.  Most of the code you've seen has been outside of functions. To test your code more thoroughly, we require that you put each layer in a function.  This allows us to give you better feedback and test for simple mistakes using our unittests before you submit your project.\n",
    "\n",
    "If you're finding it hard to dedicate enough time for this course a week, we've provided a small shortcut to this part of the project. In the next couple of problems, you'll have the option to use [TensorFlow Layers](https://www.tensorflow.org/api_docs/python/tf/layers) or [TensorFlow Layers (contrib)](https://www.tensorflow.org/api_guides/python/contrib.layers) to build each layer, except \"Convolutional & Max Pooling\" layer.  TF Layers is similar to Keras's and TFLearn's abstraction to layers, so it's easy to pickup.\n",
    "\n",
    "If you would like to get the most of this course, try to solve all the problems without TF Layers.  Let's begin!\n",
    "### Input\n",
    "The neural network needs to read the image data, one-hot encoded labels, and dropout keep probability. Implement the following functions\n",
    "* Implement `neural_net_image_input`\n",
    " * Return a [TF Placeholder](https://www.tensorflow.org/api_docs/python/tf/placeholder)\n",
    " * Set the shape using `image_shape` with batch size set to `None`.\n",
    " * Name the TensorFlow placeholder \"x\" using the TensorFlow `name` parameter in the [TF Placeholder](https://www.tensorflow.org/api_docs/python/tf/placeholder).\n",
    "* Implement `neural_net_label_input`\n",
    " * Return a [TF Placeholder](https://www.tensorflow.org/api_docs/python/tf/placeholder)\n",
    " * Set the shape using `n_classes` with batch size set to `None`.\n",
    " * Name the TensorFlow placeholder \"y\" using the TensorFlow `name` parameter in the [TF Placeholder](https://www.tensorflow.org/api_docs/python/tf/placeholder).\n",
    "* Implement `neural_net_keep_prob_input`\n",
    " * Return a [TF Placeholder](https://www.tensorflow.org/api_docs/python/tf/placeholder) for dropout keep probability.\n",
    " * Name the TensorFlow placeholder \"keep_prob\" using the TensorFlow `name` parameter in the [TF Placeholder](https://www.tensorflow.org/api_docs/python/tf/placeholder).\n",
    "\n",
    "These names will be used at the end of the project to load your saved model.\n",
    "\n",
    "Note: `None` for shapes in TensorFlow allow for a dynamic size."
   ]
  },
  {
   "cell_type": "code",
   "execution_count": 7,
   "metadata": {
    "collapsed": false,
    "deletable": true,
    "editable": true
   },
   "outputs": [
    {
     "name": "stdout",
     "output_type": "stream",
     "text": [
      "Image Input Tests Passed.\n",
      "Label Input Tests Passed.\n",
      "Keep Prob Tests Passed.\n"
     ]
    }
   ],
   "source": [
    "import tensorflow as tf\n",
    "\n",
    "def neural_net_image_input(image_shape):\n",
    "    \"\"\"\n",
    "    Return a Tensor for a bach of image input\n",
    "    : image_shape: Shape of the images\n",
    "    : return: Tensor for image input.\n",
    "    \"\"\"\n",
    "    # TODO: Implement Function\n",
    "    return tf.placeholder(tf.float32, shape=(None,image_shape[0],image_shape[1],image_shape[2]),name=\"x\")\n",
    "\n",
    "\n",
    "def neural_net_label_input(n_classes):\n",
    "    \"\"\"\n",
    "    Return a Tensor for a batch of label input\n",
    "    : n_classes: Number of classes\n",
    "    : return: Tensor for label input.\n",
    "    \"\"\"\n",
    "    # TODO: Implement Function\n",
    "    return tf.placeholder(tf.float32,shape=(None,n_classes),name=\"y\")\n",
    "\n",
    "\n",
    "def neural_net_keep_prob_input():\n",
    "    \"\"\"\n",
    "    Return a Tensor for keep probability\n",
    "    : return: Tensor for keep probability.\n",
    "    \"\"\"\n",
    "    # TODO: Implement Function\n",
    "    return tf.placeholder(tf.float32,name=\"keep_prob\")\n",
    "\n",
    "\"\"\"\n",
    "DON'T MODIFY ANYTHING IN THIS CELL THAT IS BELOW THIS LINE\n",
    "\"\"\"\n",
    "tf.reset_default_graph()\n",
    "tests.test_nn_image_inputs(neural_net_image_input)\n",
    "tests.test_nn_label_inputs(neural_net_label_input)\n",
    "tests.test_nn_keep_prob_inputs(neural_net_keep_prob_input)"
   ]
  },
  {
   "cell_type": "markdown",
   "metadata": {
    "deletable": true,
    "editable": true
   },
   "source": [
    "### Convolution and Max Pooling Layer\n",
    "Convolution layers have a lot of success with images. For this code cell, you should implement the function `conv2d_maxpool` to apply convolution then max pooling:\n",
    "* Create the weight and bias using `conv_ksize`, `conv_num_outputs` and the shape of `x_tensor`.\n",
    "* Apply a convolution to `x_tensor` using weight and `conv_strides`.\n",
    " * We recommend you use same padding, but you're welcome to use any padding.\n",
    "* Add bias\n",
    "* Add a nonlinear activation to the convolution.\n",
    "* Apply Max Pooling using `pool_ksize` and `pool_strides`.\n",
    " * We recommend you use same padding, but you're welcome to use any padding.\n",
    "\n",
    "Note: You **can't** use [TensorFlow Layers](https://www.tensorflow.org/api_docs/python/tf/layers) or [TensorFlow Layers (contrib)](https://www.tensorflow.org/api_guides/python/contrib.layers) for this layer.  You're free to use any TensorFlow package for all the other layers."
   ]
  },
  {
   "cell_type": "code",
   "execution_count": 8,
   "metadata": {
    "collapsed": false,
    "deletable": true,
    "editable": true
   },
   "outputs": [],
   "source": [
    "# tf.Variable(tf.random_normal([2, 2, 3, 11]))"
   ]
  },
  {
   "cell_type": "code",
   "execution_count": 9,
   "metadata": {
    "collapsed": false,
    "deletable": true,
    "editable": true
   },
   "outputs": [
    {
     "name": "stdout",
     "output_type": "stream",
     "text": [
      "Tests Passed\n"
     ]
    }
   ],
   "source": [
    "def conv2d_maxpool(x_tensor, conv_num_outputs, conv_ksize, conv_strides, pool_ksize, pool_strides):\n",
    "    \"\"\"\n",
    "    Apply convolution then max pooling to x_tensor\n",
    "    :param x_tensor: TensorFlow Tensor\n",
    "    :param conv_num_outputs: Number of outputs for the convolutional layer\n",
    "    :param conv_strides: Stride 2-D Tuple for convolution\n",
    "    :param pool_ksize: kernal size 2-D Tuple for pool\n",
    "    :param pool_strides: Stride 2-D Tuple for pool\n",
    "    : return: A tensor that represents convolution and max pooling of x_tensor\n",
    "    \"\"\"\n",
    "    # TODO: Implement Function\n",
    "    num_channels = int(x_tensor.get_shape().dims[3])\n",
    "\n",
    "    Weights = tf.Variable(tf.truncated_normal(( conv_ksize[0],  conv_ksize[1], num_channels, conv_num_outputs),stddev=0.1))\n",
    "\n",
    "    bias = tf.Variable(tf.zeros([conv_num_outputs]))\n",
    "    \n",
    "    x = tf.nn.conv2d(x_tensor, Weights, strides=[1, conv_strides[0], conv_strides[1], 1], padding='SAME')\n",
    "    x = tf.nn.bias_add(x, bias)\n",
    "    x = tf.nn.relu(x)\n",
    "    \n",
    "    return tf.nn.max_pool(x, ksize=[1, pool_ksize[0], pool_ksize[1], 1], strides=[1, pool_strides[0], pool_strides[1], 1], padding='SAME')\n",
    "\n",
    "\n",
    "\"\"\"\n",
    "DON'T MODIFY ANYTHING IN THIS CELL THAT IS BELOW THIS LINE\n",
    "\"\"\"\n",
    "tests.test_con_pool(conv2d_maxpool)"
   ]
  },
  {
   "cell_type": "markdown",
   "metadata": {
    "deletable": true,
    "editable": true
   },
   "source": [
    "### Flatten Layer\n",
    "Implement the `flatten` function to change the dimension of `x_tensor` from a 4-D tensor to a 2-D tensor.  The output should be the shape (*Batch Size*, *Flattened Image Size*). You can use [TensorFlow Layers](https://www.tensorflow.org/api_docs/python/tf/layers) or [TensorFlow Layers (contrib)](https://www.tensorflow.org/api_guides/python/contrib.layers) for this layer."
   ]
  },
  {
   "cell_type": "code",
   "execution_count": 10,
   "metadata": {
    "collapsed": false,
    "deletable": true,
    "editable": true
   },
   "outputs": [
    {
     "name": "stdout",
     "output_type": "stream",
     "text": [
      "Tests Passed\n"
     ]
    }
   ],
   "source": [
    "def flatten(x_tensor):\n",
    "    \"\"\"\n",
    "    Flatten x_tensor to (Batch Size, Flattened Image Size)\n",
    "    : x_tensor: A tensor of size (Batch Size, ...), where ... are the image dimensions.\n",
    "    : return: A tensor of size (Batch Size, Flattened Image Size).\n",
    "    \"\"\"\n",
    "    # TODO: Implement Function\n",
    "#     return None tf.contrib.layers.flatten(*args, **kwargs)\n",
    "#     print (x_tensor.get_shape())\n",
    "    shape = x_tensor.get_shape().as_list()\n",
    "    length = (shape[1]*shape[2]*shape[3])\n",
    "#     print(type(length))\n",
    "    return tf.reshape(x_tensor, [-1, length])\n",
    "    \n",
    "\n",
    "\n",
    "\"\"\"\n",
    "DON'T MODIFY ANYTHING IN THIS CELL THAT IS BELOW THIS LINE\n",
    "\"\"\"\n",
    "tests.test_flatten(flatten)"
   ]
  },
  {
   "cell_type": "markdown",
   "metadata": {
    "deletable": true,
    "editable": true
   },
   "source": [
    "### Fully-Connected Layer\n",
    "Implement the `fully_conn` function to apply a fully connected layer to `x_tensor` with the shape (*Batch Size*, *num_outputs*). You can use [TensorFlow Layers](https://www.tensorflow.org/api_docs/python/tf/layers) or [TensorFlow Layers (contrib)](https://www.tensorflow.org/api_guides/python/contrib.layers) for this layer."
   ]
  },
  {
   "cell_type": "code",
   "execution_count": 11,
   "metadata": {
    "collapsed": false,
    "deletable": true,
    "editable": true
   },
   "outputs": [
    {
     "name": "stdout",
     "output_type": "stream",
     "text": [
      "Tests Passed\n"
     ]
    }
   ],
   "source": [
    "def fully_conn(x_tensor, num_outputs):\n",
    "    \"\"\"\n",
    "    Apply a fully connected layer to x_tensor using weight and bias\n",
    "    : x_tensor: A 2-D tensor where the first dimension is batch size.\n",
    "    : num_outputs: The number of output that the new tensor should be.\n",
    "    : return: A 2-D tensor where the second dimension is num_outputs.\n",
    "    \"\"\"\n",
    "    # TODO: Implement Function\n",
    "#     print (x_tensor.get_shape())\n",
    "#     print(tf.contrib.layers.fully_connected(inputs = x_tensor, num_outputs= num_outputs))\n",
    "    no_inputs = x_tensor.get_shape().as_list()\n",
    "    no_inputs = no_inputs[1]\n",
    "    \n",
    "    weights = tf.Variable(tf.truncated_normal(\\\n",
    "      [no_inputs, num_outputs], stddev=0.1))\n",
    "    biases = tf.Variable(tf.constant(1.0, shape=[num_outputs]))\n",
    "    next_layer = tf.nn.relu(tf.matmul(x_tensor, weights) + biases)\n",
    "    return next_layer\n",
    "#     return tf.contrib.layers.fully_connected(inputs = x_tensor, num_outputs= num_outputs, activation_fn=tf.nn.relu)\n",
    "\n",
    "\n",
    "\"\"\"\n",
    "DON'T MODIFY ANYTHING IN THIS CELL THAT IS BELOW THIS LINE\n",
    "\"\"\"\n",
    "tests.test_fully_conn(fully_conn)"
   ]
  },
  {
   "cell_type": "markdown",
   "metadata": {
    "deletable": true,
    "editable": true
   },
   "source": [
    "### Output Layer\n",
    "Implement the `output` function to apply a fully connected layer to `x_tensor` with the shape (*Batch Size*, *num_outputs*). You can use [TensorFlow Layers](https://www.tensorflow.org/api_docs/python/tf/layers) or [TensorFlow Layers (contrib)](https://www.tensorflow.org/api_guides/python/contrib.layers) for this layer.\n",
    "\n",
    "Note: Activation, softmax, or cross entropy shouldn't be applied to this."
   ]
  },
  {
   "cell_type": "code",
   "execution_count": 32,
   "metadata": {
    "collapsed": false,
    "deletable": true,
    "editable": true
   },
   "outputs": [
    {
     "name": "stdout",
     "output_type": "stream",
     "text": [
      "Tests Passed\n"
     ]
    }
   ],
   "source": [
    "def output(x_tensor, num_outputs):\n",
    "    \"\"\"\n",
    "    Apply a output layer to x_tensor using weight and bias\n",
    "    : x_tensor: A 2-D tensor where the first dimension is batch size.\n",
    "    : num_outputs: The number of output that the new tensor should be.\n",
    "    : return: A 2-D tensor where the second dimension is num_outputs.\n",
    "    \"\"\"\n",
    "    # TODO: Implement Function\n",
    "    \n",
    "    no_inputs = x_tensor.get_shape().as_list()\n",
    "    no_inputs = no_inputs[1]\n",
    "    \n",
    "    weights = tf.Variable(tf.truncated_normal(\\\n",
    "      [no_inputs, num_outputs], stddev=0.1))\n",
    "    biases = tf.Variable(tf.constant(1.0, shape=[num_outputs]))\n",
    "    next_layer = tf.matmul(x_tensor, weights) + biases\n",
    "# # #     print (x_tensor.get_shape())\n",
    "# #     print (next_layer.get_shape())\n",
    "#     next_layer2 =tf.contrib.layers.fully_connected(inputs = x_tensor, num_outputs= num_outputs, activation_fn=tf.nn.relu)\n",
    "#     print (next_layer2.get_shape())\n",
    "    return next_layer\n",
    "#     return tf.contrib.layers.fully_connected(inputs = x_tensor, num_outputs= num_outputs, activation_fn=tf.nn.relu)\n",
    "\n",
    "\n",
    "\"\"\"\n",
    "DON'T MODIFY ANYTHING IN THIS CELL THAT IS BELOW THIS LINE\n",
    "\"\"\"\n",
    "tests.test_output(output)"
   ]
  },
  {
   "cell_type": "markdown",
   "metadata": {
    "deletable": true,
    "editable": true
   },
   "source": [
    "### Create Convolutional Model\n",
    "Implement the function `conv_net` to create a convolutional neural network model. The function takes in a batch of images, `x`, and outputs logits.  Use the layers you created above to create this model:\n",
    "\n",
    "* Apply 1, 2, or 3 Convolution and Max Pool layers\n",
    "* Apply a Flatten Layer\n",
    "* Apply 1, 2, or 3 Fully Connected Layers\n",
    "* Apply an Output Layer\n",
    "* Return the output\n",
    "* Apply [TensorFlow's Dropout](https://www.tensorflow.org/api_docs/python/tf/nn/dropout) to one or more layers in the model using `keep_prob`. "
   ]
  },
  {
   "cell_type": "code",
   "execution_count": 33,
   "metadata": {
    "collapsed": false,
    "deletable": true,
    "editable": true
   },
   "outputs": [
    {
     "name": "stdout",
     "output_type": "stream",
     "text": [
      "Neural Network Built!\n"
     ]
    }
   ],
   "source": [
    "def conv_net(x, keep_prob):\n",
    "    \"\"\"\n",
    "    Create a convolutional neural network model\n",
    "    : x: Placeholder tensor that holds image data.\n",
    "    : keep_prob: Placeholder tensor that hold dropout keep probability.\n",
    "    : return: Tensor that represents logits\n",
    "    \"\"\"\n",
    "    # TODO: Apply 1, 2, or 3 Convolution and Max Pool layers\n",
    "    #    Play around with different number of outputs, kernel size and stride\n",
    "    # Function Definition from Above: \n",
    "    x = conv2d_maxpool(x, conv_num_outputs = 16,\\\n",
    "                           conv_ksize = (5,5),conv_strides = (2,2),pool_ksize= (1,1),pool_strides = (1,1))\n",
    "    x = conv2d_maxpool(x, conv_num_outputs = 16,\\\n",
    "                           conv_ksize = (5,5),conv_strides = (2,2),pool_ksize= (2,2),pool_strides = (2,2))\n",
    "    \n",
    "#     x = conv2d_maxpool(x, conv_num_outputs = 8,\\\n",
    "#                            conv_ksize = (5,5),conv_strides = (2,2),pool_ksize= (1,1),pool_strides = (1,1))\n",
    "#     x = conv2d_maxpool(x, conv_num_outputs = 16,\\\n",
    "#                            conv_ksize = (3,3),conv_strides = (2,2),pool_ksize= (1,1),pool_strides = (1,1))\n",
    "#     x =  conv2d_maxpool(x, conv_num_outputs = 32,\\\n",
    "#                            conv_ksize = (2,2),conv_strides = (1,1),pool_ksize= (3,3),pool_strides = (2,2))\n",
    "    # TODO: Apply a Flatten Layer\n",
    "    # Function Definition from Above:\n",
    "    #   flatten(x_tensor)\n",
    "    x = flatten(x)\n",
    "\n",
    "    # TODO: Apply 1, 2, or 3 Fully Connected Layers\n",
    "    #    Play around with different number of outputs\n",
    "    # Function Definition from Above:\n",
    "    #   fully_conn(x_tensor, num_outputs)\n",
    "#     x = fully_conn(x, 2000)\n",
    "#     x = tf.nn.dropout(x, keep_prob)\n",
    "#     x = fully_conn(x, 1000)\n",
    "#     x = fully_conn(x, 500)\n",
    "#     x = fully_conn(x, 128)\n",
    "#     x = tf.nn.dropout(x, keep_prob)\n",
    "#     x = fully_conn(x, 64)\n",
    "#     x = tf.nn.dropout(x, keep_prob)\n",
    "    \n",
    "#     x = fully_conn(x, 1024)\n",
    "#     x = tf.nn.dropout(x, keep_prob)\n",
    "    x = fully_conn(x, 128)\n",
    "    x = tf.nn.dropout(x, keep_prob)\n",
    "    x = fully_conn(x, 64)\n",
    "#     x = tf.nn.dropout(x, keep_prob)\n",
    "    # TODO: Apply an Output Layer\n",
    "    #    Set this to the number of classes\n",
    "    # Function Definition from Above:\n",
    "    #   output(x_tensor, num_outputs)\n",
    "    x = output(x, 10)\n",
    "    \n",
    "    # TODO: return output\n",
    "    return x\n",
    "\n",
    "\n",
    "\"\"\"\n",
    "DON'T MODIFY ANYTHING IN THIS CELL THAT IS BELOW THIS LINE\n",
    "\"\"\"\n",
    "\n",
    "##############################\n",
    "## Build the Neural Network ##\n",
    "##############################\n",
    "\n",
    "# Remove previous weights, bias, inputs, etc..\n",
    "tf.reset_default_graph()\n",
    "\n",
    "# Inputs\n",
    "x = neural_net_image_input((32, 32, 3))\n",
    "y = neural_net_label_input(10)\n",
    "keep_prob = neural_net_keep_prob_input()\n",
    "\n",
    "# Model\n",
    "logits = conv_net(x, keep_prob)\n",
    "\n",
    "# Name logits Tensor, so that is can be loaded from disk after training\n",
    "logits = tf.identity(logits, name='logits')\n",
    "\n",
    "# Loss and Optimizer\n",
    "cost = tf.reduce_mean(tf.nn.softmax_cross_entropy_with_logits(logits=logits, labels=y))\n",
    "optimizer = tf.train.AdamOptimizer().minimize(cost)\n",
    "\n",
    "# Accuracy\n",
    "correct_pred = tf.equal(tf.argmax(logits, 1), tf.argmax(y, 1))\n",
    "accuracy = tf.reduce_mean(tf.cast(correct_pred, tf.float32), name='accuracy')\n",
    "\n",
    "tests.test_conv_net(conv_net)"
   ]
  },
  {
   "cell_type": "markdown",
   "metadata": {
    "deletable": true,
    "editable": true
   },
   "source": [
    "## Train the Neural Network\n",
    "### Single Optimization\n",
    "Implement the function `train_neural_network` to do a single optimization.  The optimization should use `optimizer` to optimize in `session` with a `feed_dict` of the following:\n",
    "* `x` for image input\n",
    "* `y` for labels\n",
    "* `keep_prob` for keep probability for dropout\n",
    "\n",
    "This function will be called for each batch, so `tf.global_variables_initializer()` has already been called.\n",
    "\n",
    "Note: Nothing needs to be returned. This function is only optimizing the neural network."
   ]
  },
  {
   "cell_type": "code",
   "execution_count": 34,
   "metadata": {
    "collapsed": false,
    "deletable": true,
    "editable": true
   },
   "outputs": [
    {
     "name": "stdout",
     "output_type": "stream",
     "text": [
      "Tests Passed\n"
     ]
    }
   ],
   "source": [
    "def train_neural_network(session, optimizer, keep_probability, feature_batch, label_batch):\n",
    "    \"\"\"\n",
    "    Optimize the session on a batch of images and labels\n",
    "    : session: Current TensorFlow session\n",
    "    : optimizer: TensorFlow optimizer function\n",
    "    : keep_probability: keep probability\n",
    "    : feature_batch: Batch of Numpy image data\n",
    "    : label_batch: Batch of Numpy label data\n",
    "    \"\"\"\n",
    "    # TODO: Implement Function\n",
    "    session.run(optimizer, feed_dict={x: feature_batch, y: label_batch, keep_prob: keep_probability})\n",
    "#     pass\n",
    "\n",
    "\n",
    "\"\"\"\n",
    "DON'T MODIFY ANYTHING IN THIS CELL THAT IS BELOW THIS LINE\n",
    "\"\"\"\n",
    "tests.test_train_nn(train_neural_network)"
   ]
  },
  {
   "cell_type": "markdown",
   "metadata": {
    "deletable": true,
    "editable": true
   },
   "source": [
    "### Show Stats\n",
    "Implement the function `print_stats` to print loss and validation accuracy.  Use the global variables `valid_features` and `valid_labels` to calculate validation accuracy.  Use a keep probability of `1.0` to calculate the loss and validation accuracy."
   ]
  },
  {
   "cell_type": "code",
   "execution_count": 38,
   "metadata": {
    "collapsed": false,
    "deletable": true,
    "editable": true
   },
   "outputs": [],
   "source": [
    "def print_stats(session, feature_batch, label_batch, cost, accuracy):\n",
    "    \"\"\"\n",
    "    Print information about loss and validation accuracy\n",
    "    : session: Current TensorFlow session\n",
    "    : feature_batch: Batch of Numpy image data\n",
    "    : label_batch: Batch of Numpy label data\n",
    "    : cost: TensorFlow cost function\n",
    "    : accuracy: TensorFlow accuracy function\n",
    "    \"\"\"\n",
    "    # TODO: Implement Function\n",
    "    loss = session.run(cost, feed_dict={x: valid_features, y: valid_labels, keep_prob: 1.})\n",
    "    valid_acc = sess.run(accuracy, feed_dict={\n",
    "        x: valid_features,\n",
    "        y: valid_labels,\n",
    "        keep_prob: 1.})\n",
    "    print  (\"log loss  :\",loss, \"Valid accuracy :\",valid_acc)\n",
    "#     pass"
   ]
  },
  {
   "cell_type": "markdown",
   "metadata": {
    "deletable": true,
    "editable": true
   },
   "source": [
    "### Hyperparameters\n",
    "Tune the following parameters:\n",
    "* Set `epochs` to the number of iterations until the network stops learning or start overfitting\n",
    "* Set `batch_size` to the highest number that your machine has memory for.  Most people set them to common sizes of memory:\n",
    " * 64\n",
    " * 128\n",
    " * 256\n",
    " * ...\n",
    "* Set `keep_probability` to the probability of keeping a node using dropout"
   ]
  },
  {
   "cell_type": "code",
   "execution_count": 49,
   "metadata": {
    "collapsed": true,
    "deletable": true,
    "editable": true
   },
   "outputs": [],
   "source": [
    "# TODO: Tune Parameters\n",
    "epochs = 50\n",
    "batch_size = 256\n",
    "keep_probability = .5"
   ]
  },
  {
   "cell_type": "markdown",
   "metadata": {
    "deletable": true,
    "editable": true
   },
   "source": [
    "### Train on a Single CIFAR-10 Batch\n",
    "Instead of training the neural network on all the CIFAR-10 batches of data, let's use a single batch. This should save time while you iterate on the model to get a better accuracy.  Once the final validation accuracy is 50% or greater, run the model on all the data in the next section."
   ]
  },
  {
   "cell_type": "code",
   "execution_count": 50,
   "metadata": {
    "collapsed": false,
    "deletable": true,
    "editable": true
   },
   "outputs": [
    {
     "name": "stdout",
     "output_type": "stream",
     "text": [
      "Checking the Training on a Single Batch...\n",
      "Epoch  1, CIFAR-10 Batch 1:  log loss  : 2.15916 Valid accuracy : 0.206\n",
      "Epoch  2, CIFAR-10 Batch 1:  log loss  : 1.9219 Valid accuracy : 0.316\n",
      "Epoch  3, CIFAR-10 Batch 1:  log loss  : 1.80786 Valid accuracy : 0.3564\n",
      "Epoch  4, CIFAR-10 Batch 1:  log loss  : 1.69467 Valid accuracy : 0.397\n",
      "Epoch  5, CIFAR-10 Batch 1:  log loss  : 1.62938 Valid accuracy : 0.4132\n",
      "Epoch  6, CIFAR-10 Batch 1:  log loss  : 1.57485 Valid accuracy : 0.4304\n",
      "Epoch  7, CIFAR-10 Batch 1:  log loss  : 1.54329 Valid accuracy : 0.4322\n",
      "Epoch  8, CIFAR-10 Batch 1:  log loss  : 1.50797 Valid accuracy : 0.4448\n",
      "Epoch  9, CIFAR-10 Batch 1:  log loss  : 1.47912 Valid accuracy : 0.455\n",
      "Epoch 10, CIFAR-10 Batch 1:  log loss  : 1.46413 Valid accuracy : 0.4632\n",
      "Epoch 11, CIFAR-10 Batch 1:  log loss  : 1.45362 Valid accuracy : 0.4668\n",
      "Epoch 12, CIFAR-10 Batch 1:  log loss  : 1.43747 Valid accuracy : 0.4762\n",
      "Epoch 13, CIFAR-10 Batch 1:  log loss  : 1.42301 Valid accuracy : 0.4852\n",
      "Epoch 14, CIFAR-10 Batch 1:  log loss  : 1.41507 Valid accuracy : 0.4842\n",
      "Epoch 15, CIFAR-10 Batch 1:  log loss  : 1.4035 Valid accuracy : 0.4938\n",
      "Epoch 16, CIFAR-10 Batch 1:  log loss  : 1.38774 Valid accuracy : 0.5042\n",
      "Epoch 17, CIFAR-10 Batch 1:  log loss  : 1.38937 Valid accuracy : 0.5034\n",
      "Epoch 18, CIFAR-10 Batch 1:  log loss  : 1.36561 Valid accuracy : 0.5114\n",
      "Epoch 19, CIFAR-10 Batch 1:  log loss  : 1.36141 Valid accuracy : 0.511\n",
      "Epoch 20, CIFAR-10 Batch 1:  log loss  : 1.35205 Valid accuracy : 0.5146\n",
      "Epoch 21, CIFAR-10 Batch 1:  log loss  : 1.3466 Valid accuracy : 0.52\n",
      "Epoch 22, CIFAR-10 Batch 1:  log loss  : 1.35112 Valid accuracy : 0.5156\n",
      "Epoch 23, CIFAR-10 Batch 1:  log loss  : 1.34192 Valid accuracy : 0.5232\n",
      "Epoch 24, CIFAR-10 Batch 1:  log loss  : 1.36388 Valid accuracy : 0.5132\n",
      "Epoch 25, CIFAR-10 Batch 1:  log loss  : 1.36341 Valid accuracy : 0.5216\n",
      "Epoch 26, CIFAR-10 Batch 1:  log loss  : 1.34584 Valid accuracy : 0.5298\n",
      "Epoch 27, CIFAR-10 Batch 1:  log loss  : 1.32223 Valid accuracy : 0.5302\n",
      "Epoch 28, CIFAR-10 Batch 1:  log loss  : 1.32281 Valid accuracy : 0.5362\n",
      "Epoch 29, CIFAR-10 Batch 1:  log loss  : 1.32227 Valid accuracy : 0.533\n",
      "Epoch 30, CIFAR-10 Batch 1:  log loss  : 1.32609 Valid accuracy : 0.5256\n",
      "Epoch 31, CIFAR-10 Batch 1:  log loss  : 1.31699 Valid accuracy : 0.5306\n",
      "Epoch 32, CIFAR-10 Batch 1:  log loss  : 1.33421 Valid accuracy : 0.5302\n",
      "Epoch 33, CIFAR-10 Batch 1:  log loss  : 1.32595 Valid accuracy : 0.536\n",
      "Epoch 34, CIFAR-10 Batch 1:  log loss  : 1.35684 Valid accuracy : 0.5282\n",
      "Epoch 35, CIFAR-10 Batch 1:  log loss  : 1.35007 Valid accuracy : 0.5238\n",
      "Epoch 36, CIFAR-10 Batch 1:  log loss  : 1.32392 Valid accuracy : 0.5374\n",
      "Epoch 37, CIFAR-10 Batch 1:  log loss  : 1.3236 Valid accuracy : 0.538\n",
      "Epoch 38, CIFAR-10 Batch 1:  log loss  : 1.35028 Valid accuracy : 0.5234\n",
      "Epoch 39, CIFAR-10 Batch 1:  log loss  : 1.3478 Valid accuracy : 0.5274\n",
      "Epoch 40, CIFAR-10 Batch 1:  log loss  : 1.35526 Valid accuracy : 0.5258\n",
      "Epoch 41, CIFAR-10 Batch 1:  log loss  : 1.36364 Valid accuracy : 0.5256\n",
      "Epoch 42, CIFAR-10 Batch 1:  log loss  : 1.33227 Valid accuracy : 0.5356\n",
      "Epoch 43, CIFAR-10 Batch 1:  log loss  : 1.35672 Valid accuracy : 0.5246\n",
      "Epoch 44, CIFAR-10 Batch 1:  log loss  : 1.33581 Valid accuracy : 0.5342\n",
      "Epoch 45, CIFAR-10 Batch 1:  log loss  : 1.38668 Valid accuracy : 0.5214\n",
      "Epoch 46, CIFAR-10 Batch 1:  log loss  : 1.39331 Valid accuracy : 0.5218\n",
      "Epoch 47, CIFAR-10 Batch 1:  log loss  : 1.37825 Valid accuracy : 0.5226\n",
      "Epoch 48, CIFAR-10 Batch 1:  log loss  : 1.38892 Valid accuracy : 0.5194\n",
      "Epoch 49, CIFAR-10 Batch 1:  log loss  : 1.37671 Valid accuracy : 0.5184\n",
      "Epoch 50, CIFAR-10 Batch 1:  log loss  : 1.33538 Valid accuracy : 0.5322\n"
     ]
    }
   ],
   "source": [
    "\"\"\"\n",
    "DON'T MODIFY ANYTHING IN THIS CELL\n",
    "\"\"\"\n",
    "print('Checking the Training on a Single Batch...')\n",
    "with tf.Session() as sess:\n",
    "    # Initializing the variables\n",
    "    sess.run(tf.global_variables_initializer())\n",
    "    \n",
    "    # Training cycle\n",
    "    for epoch in range(epochs):\n",
    "        batch_i = 1\n",
    "        for batch_features, batch_labels in helper.load_preprocess_training_batch(batch_i, batch_size):\n",
    "            train_neural_network(sess, optimizer, keep_probability, batch_features, batch_labels)\n",
    "        print('Epoch {:>2}, CIFAR-10 Batch {}:  '.format(epoch + 1, batch_i), end='')\n",
    "        print_stats(sess, batch_features, batch_labels, cost, accuracy)"
   ]
  },
  {
   "cell_type": "markdown",
   "metadata": {
    "deletable": true,
    "editable": true
   },
   "source": [
    "### Fully Train the Model\n",
    "Now that you got a good accuracy with a single CIFAR-10 batch, try it with all five batches."
   ]
  },
  {
   "cell_type": "code",
   "execution_count": 51,
   "metadata": {
    "collapsed": false,
    "deletable": true,
    "editable": true
   },
   "outputs": [
    {
     "name": "stdout",
     "output_type": "stream",
     "text": [
      "Training...\n",
      "Epoch  1, CIFAR-10 Batch 1:  log loss  : 2.10108 Valid accuracy : 0.2678\n",
      "Epoch  1, CIFAR-10 Batch 2:  log loss  : 1.85638 Valid accuracy : 0.3172\n",
      "Epoch  1, CIFAR-10 Batch 3:  log loss  : 1.75802 Valid accuracy : 0.3518\n",
      "Epoch  1, CIFAR-10 Batch 4:  log loss  : 1.62451 Valid accuracy : 0.4118\n",
      "Epoch  1, CIFAR-10 Batch 5:  log loss  : 1.55686 Valid accuracy : 0.4292\n",
      "Epoch  2, CIFAR-10 Batch 1:  log loss  : 1.52572 Valid accuracy : 0.4432\n",
      "Epoch  2, CIFAR-10 Batch 2:  log loss  : 1.48962 Valid accuracy : 0.4594\n",
      "Epoch  2, CIFAR-10 Batch 3:  log loss  : 1.47262 Valid accuracy : 0.4554\n",
      "Epoch  2, CIFAR-10 Batch 4:  log loss  : 1.47815 Valid accuracy : 0.4694\n",
      "Epoch  2, CIFAR-10 Batch 5:  log loss  : 1.43052 Valid accuracy : 0.4816\n",
      "Epoch  3, CIFAR-10 Batch 1:  log loss  : 1.4154 Valid accuracy : 0.4862\n",
      "Epoch  3, CIFAR-10 Batch 2:  log loss  : 1.40943 Valid accuracy : 0.4868\n",
      "Epoch  3, CIFAR-10 Batch 3:  log loss  : 1.41433 Valid accuracy : 0.4764\n",
      "Epoch  3, CIFAR-10 Batch 4:  log loss  : 1.45759 Valid accuracy : 0.4792\n",
      "Epoch  3, CIFAR-10 Batch 5:  log loss  : 1.36385 Valid accuracy : 0.5052\n",
      "Epoch  4, CIFAR-10 Batch 1:  log loss  : 1.35883 Valid accuracy : 0.4994\n",
      "Epoch  4, CIFAR-10 Batch 2:  log loss  : 1.35749 Valid accuracy : 0.5078\n",
      "Epoch  4, CIFAR-10 Batch 3:  log loss  : 1.34535 Valid accuracy : 0.5114\n",
      "Epoch  4, CIFAR-10 Batch 4:  log loss  : 1.37838 Valid accuracy : 0.5084\n",
      "Epoch  4, CIFAR-10 Batch 5:  log loss  : 1.32616 Valid accuracy : 0.5202\n",
      "Epoch  5, CIFAR-10 Batch 1:  log loss  : 1.32038 Valid accuracy : 0.517\n",
      "Epoch  5, CIFAR-10 Batch 2:  log loss  : 1.36169 Valid accuracy : 0.5092\n",
      "Epoch  5, CIFAR-10 Batch 3:  log loss  : 1.29844 Valid accuracy : 0.527\n",
      "Epoch  5, CIFAR-10 Batch 4:  log loss  : 1.30836 Valid accuracy : 0.53\n",
      "Epoch  5, CIFAR-10 Batch 5:  log loss  : 1.2985 Valid accuracy : 0.531\n",
      "Epoch  6, CIFAR-10 Batch 1:  log loss  : 1.29255 Valid accuracy : 0.5302\n",
      "Epoch  6, CIFAR-10 Batch 2:  log loss  : 1.33651 Valid accuracy : 0.5174\n",
      "Epoch  6, CIFAR-10 Batch 3:  log loss  : 1.26872 Valid accuracy : 0.5428\n",
      "Epoch  6, CIFAR-10 Batch 4:  log loss  : 1.26271 Valid accuracy : 0.5452\n",
      "Epoch  6, CIFAR-10 Batch 5:  log loss  : 1.27405 Valid accuracy : 0.5386\n",
      "Epoch  7, CIFAR-10 Batch 1:  log loss  : 1.28652 Valid accuracy : 0.5282\n",
      "Epoch  7, CIFAR-10 Batch 2:  log loss  : 1.35032 Valid accuracy : 0.5168\n",
      "Epoch  7, CIFAR-10 Batch 3:  log loss  : 1.24329 Valid accuracy : 0.547\n",
      "Epoch  7, CIFAR-10 Batch 4:  log loss  : 1.23321 Valid accuracy : 0.555\n",
      "Epoch  7, CIFAR-10 Batch 5:  log loss  : 1.24069 Valid accuracy : 0.5538\n",
      "Epoch  8, CIFAR-10 Batch 1:  log loss  : 1.22828 Valid accuracy : 0.5598\n",
      "Epoch  8, CIFAR-10 Batch 2:  log loss  : 1.24513 Valid accuracy : 0.5564\n",
      "Epoch  8, CIFAR-10 Batch 3:  log loss  : 1.22099 Valid accuracy : 0.555\n",
      "Epoch  8, CIFAR-10 Batch 4:  log loss  : 1.20927 Valid accuracy : 0.5656\n",
      "Epoch  8, CIFAR-10 Batch 5:  log loss  : 1.22668 Valid accuracy : 0.557\n",
      "Epoch  9, CIFAR-10 Batch 1:  log loss  : 1.22758 Valid accuracy : 0.553\n",
      "Epoch  9, CIFAR-10 Batch 2:  log loss  : 1.24029 Valid accuracy : 0.5582\n",
      "Epoch  9, CIFAR-10 Batch 3:  log loss  : 1.19205 Valid accuracy : 0.57\n",
      "Epoch  9, CIFAR-10 Batch 4:  log loss  : 1.18007 Valid accuracy : 0.571\n",
      "Epoch  9, CIFAR-10 Batch 5:  log loss  : 1.21858 Valid accuracy : 0.5692\n",
      "Epoch 10, CIFAR-10 Batch 1:  log loss  : 1.20121 Valid accuracy : 0.5674\n",
      "Epoch 10, CIFAR-10 Batch 2:  log loss  : 1.23898 Valid accuracy : 0.5558\n",
      "Epoch 10, CIFAR-10 Batch 3:  log loss  : 1.18003 Valid accuracy : 0.5722\n",
      "Epoch 10, CIFAR-10 Batch 4:  log loss  : 1.16927 Valid accuracy : 0.5794\n",
      "Epoch 10, CIFAR-10 Batch 5:  log loss  : 1.17501 Valid accuracy : 0.5802\n",
      "Epoch 11, CIFAR-10 Batch 1:  log loss  : 1.19244 Valid accuracy : 0.56\n",
      "Epoch 11, CIFAR-10 Batch 2:  log loss  : 1.21291 Valid accuracy : 0.5676\n",
      "Epoch 11, CIFAR-10 Batch 3:  log loss  : 1.17283 Valid accuracy : 0.5774\n",
      "Epoch 11, CIFAR-10 Batch 4:  log loss  : 1.15307 Valid accuracy : 0.5842\n",
      "Epoch 11, CIFAR-10 Batch 5:  log loss  : 1.17158 Valid accuracy : 0.578\n",
      "Epoch 12, CIFAR-10 Batch 1:  log loss  : 1.18001 Valid accuracy : 0.5704\n",
      "Epoch 12, CIFAR-10 Batch 2:  log loss  : 1.20126 Valid accuracy : 0.5714\n",
      "Epoch 12, CIFAR-10 Batch 3:  log loss  : 1.16731 Valid accuracy : 0.5788\n",
      "Epoch 12, CIFAR-10 Batch 4:  log loss  : 1.13627 Valid accuracy : 0.5886\n",
      "Epoch 12, CIFAR-10 Batch 5:  log loss  : 1.15247 Valid accuracy : 0.5818\n",
      "Epoch 13, CIFAR-10 Batch 1:  log loss  : 1.16434 Valid accuracy : 0.5738\n",
      "Epoch 13, CIFAR-10 Batch 2:  log loss  : 1.2125 Valid accuracy : 0.565\n",
      "Epoch 13, CIFAR-10 Batch 3:  log loss  : 1.1493 Valid accuracy : 0.5876\n",
      "Epoch 13, CIFAR-10 Batch 4:  log loss  : 1.13077 Valid accuracy : 0.5918\n",
      "Epoch 13, CIFAR-10 Batch 5:  log loss  : 1.15073 Valid accuracy : 0.589\n",
      "Epoch 14, CIFAR-10 Batch 1:  log loss  : 1.14119 Valid accuracy : 0.588\n",
      "Epoch 14, CIFAR-10 Batch 2:  log loss  : 1.15744 Valid accuracy : 0.585\n",
      "Epoch 14, CIFAR-10 Batch 3:  log loss  : 1.1413 Valid accuracy : 0.5854\n",
      "Epoch 14, CIFAR-10 Batch 4:  log loss  : 1.12799 Valid accuracy : 0.5872\n",
      "Epoch 14, CIFAR-10 Batch 5:  log loss  : 1.12864 Valid accuracy : 0.5954\n",
      "Epoch 15, CIFAR-10 Batch 1:  log loss  : 1.12469 Valid accuracy : 0.5932\n",
      "Epoch 15, CIFAR-10 Batch 2:  log loss  : 1.13216 Valid accuracy : 0.5934\n",
      "Epoch 15, CIFAR-10 Batch 3:  log loss  : 1.1119 Valid accuracy : 0.6008\n",
      "Epoch 15, CIFAR-10 Batch 4:  log loss  : 1.11073 Valid accuracy : 0.5948\n",
      "Epoch 15, CIFAR-10 Batch 5:  log loss  : 1.11854 Valid accuracy : 0.5984\n",
      "Epoch 16, CIFAR-10 Batch 1:  log loss  : 1.11955 Valid accuracy : 0.5912\n",
      "Epoch 16, CIFAR-10 Batch 2:  log loss  : 1.13384 Valid accuracy : 0.5874\n",
      "Epoch 16, CIFAR-10 Batch 3:  log loss  : 1.09952 Valid accuracy : 0.5994\n",
      "Epoch 16, CIFAR-10 Batch 4:  log loss  : 1.09904 Valid accuracy : 0.6024\n",
      "Epoch 16, CIFAR-10 Batch 5:  log loss  : 1.10174 Valid accuracy : 0.605\n",
      "Epoch 17, CIFAR-10 Batch 1:  log loss  : 1.11227 Valid accuracy : 0.5954\n",
      "Epoch 17, CIFAR-10 Batch 2:  log loss  : 1.14057 Valid accuracy : 0.5918\n",
      "Epoch 17, CIFAR-10 Batch 3:  log loss  : 1.11743 Valid accuracy : 0.596\n",
      "Epoch 17, CIFAR-10 Batch 4:  log loss  : 1.09656 Valid accuracy : 0.6018\n",
      "Epoch 17, CIFAR-10 Batch 5:  log loss  : 1.09859 Valid accuracy : 0.6042\n",
      "Epoch 18, CIFAR-10 Batch 1:  log loss  : 1.09961 Valid accuracy : 0.603\n",
      "Epoch 18, CIFAR-10 Batch 2:  log loss  : 1.09708 Valid accuracy : 0.6072\n",
      "Epoch 18, CIFAR-10 Batch 3:  log loss  : 1.10046 Valid accuracy : 0.607\n",
      "Epoch 18, CIFAR-10 Batch 4:  log loss  : 1.08837 Valid accuracy : 0.606\n",
      "Epoch 18, CIFAR-10 Batch 5:  log loss  : 1.10623 Valid accuracy : 0.601\n",
      "Epoch 19, CIFAR-10 Batch 1:  log loss  : 1.08905 Valid accuracy : 0.6068\n",
      "Epoch 19, CIFAR-10 Batch 2:  log loss  : 1.08679 Valid accuracy : 0.613\n",
      "Epoch 19, CIFAR-10 Batch 3:  log loss  : 1.09293 Valid accuracy : 0.6072\n",
      "Epoch 19, CIFAR-10 Batch 4:  log loss  : 1.06854 Valid accuracy : 0.6136\n",
      "Epoch 19, CIFAR-10 Batch 5:  log loss  : 1.08807 Valid accuracy : 0.6086\n",
      "Epoch 20, CIFAR-10 Batch 1:  log loss  : 1.08891 Valid accuracy : 0.6052\n",
      "Epoch 20, CIFAR-10 Batch 2:  log loss  : 1.08664 Valid accuracy : 0.611\n",
      "Epoch 20, CIFAR-10 Batch 3:  log loss  : 1.07208 Valid accuracy : 0.6182\n",
      "Epoch 20, CIFAR-10 Batch 4:  log loss  : 1.07634 Valid accuracy : 0.6106\n",
      "Epoch 20, CIFAR-10 Batch 5:  log loss  : 1.07911 Valid accuracy : 0.612\n",
      "Epoch 21, CIFAR-10 Batch 1:  log loss  : 1.08486 Valid accuracy : 0.6064\n",
      "Epoch 21, CIFAR-10 Batch 2:  log loss  : 1.08107 Valid accuracy : 0.6158\n",
      "Epoch 21, CIFAR-10 Batch 3:  log loss  : 1.06727 Valid accuracy : 0.6156\n",
      "Epoch 21, CIFAR-10 Batch 4:  log loss  : 1.06433 Valid accuracy : 0.6146\n",
      "Epoch 21, CIFAR-10 Batch 5:  log loss  : 1.07006 Valid accuracy : 0.6158\n",
      "Epoch 22, CIFAR-10 Batch 1:  log loss  : 1.06265 Valid accuracy : 0.617\n",
      "Epoch 22, CIFAR-10 Batch 2:  log loss  : 1.10167 Valid accuracy : 0.608\n",
      "Epoch 22, CIFAR-10 Batch 3:  log loss  : 1.05987 Valid accuracy : 0.6194\n",
      "Epoch 22, CIFAR-10 Batch 4:  log loss  : 1.04694 Valid accuracy : 0.6196\n",
      "Epoch 22, CIFAR-10 Batch 5:  log loss  : 1.06411 Valid accuracy : 0.6212\n",
      "Epoch 23, CIFAR-10 Batch 1:  log loss  : 1.06881 Valid accuracy : 0.6112\n",
      "Epoch 23, CIFAR-10 Batch 2:  log loss  : 1.08575 Valid accuracy : 0.6114\n",
      "Epoch 23, CIFAR-10 Batch 3:  log loss  : 1.05507 Valid accuracy : 0.6222\n",
      "Epoch 23, CIFAR-10 Batch 4:  log loss  : 1.04912 Valid accuracy : 0.6228\n",
      "Epoch 23, CIFAR-10 Batch 5:  log loss  : 1.06316 Valid accuracy : 0.6196\n",
      "Epoch 24, CIFAR-10 Batch 1:  log loss  : 1.0581 Valid accuracy : 0.619\n",
      "Epoch 24, CIFAR-10 Batch 2:  log loss  : 1.08746 Valid accuracy : 0.6148\n",
      "Epoch 24, CIFAR-10 Batch 3:  log loss  : 1.05714 Valid accuracy : 0.6224\n",
      "Epoch 24, CIFAR-10 Batch 4:  log loss  : 1.05265 Valid accuracy : 0.6216\n",
      "Epoch 24, CIFAR-10 Batch 5:  log loss  : 1.06288 Valid accuracy : 0.6242\n",
      "Epoch 25, CIFAR-10 Batch 1:  log loss  : 1.05081 Valid accuracy : 0.6272\n",
      "Epoch 25, CIFAR-10 Batch 2:  log loss  : 1.07705 Valid accuracy : 0.6186\n",
      "Epoch 25, CIFAR-10 Batch 3:  log loss  : 1.06417 Valid accuracy : 0.6214\n",
      "Epoch 25, CIFAR-10 Batch 4:  log loss  : 1.04302 Valid accuracy : 0.6236\n",
      "Epoch 25, CIFAR-10 Batch 5:  log loss  : 1.03782 Valid accuracy : 0.622\n",
      "Epoch 26, CIFAR-10 Batch 1:  log loss  : 1.04446 Valid accuracy : 0.6256\n",
      "Epoch 26, CIFAR-10 Batch 2:  log loss  : 1.06924 Valid accuracy : 0.6174\n",
      "Epoch 26, CIFAR-10 Batch 3:  log loss  : 1.05648 Valid accuracy : 0.6262\n",
      "Epoch 26, CIFAR-10 Batch 4:  log loss  : 1.03322 Valid accuracy : 0.6294\n",
      "Epoch 26, CIFAR-10 Batch 5:  log loss  : 1.0372 Valid accuracy : 0.6284\n",
      "Epoch 27, CIFAR-10 Batch 1:  log loss  : 1.04426 Valid accuracy : 0.6222\n",
      "Epoch 27, CIFAR-10 Batch 2:  log loss  : 1.07963 Valid accuracy : 0.62\n",
      "Epoch 27, CIFAR-10 Batch 3:  log loss  : 1.04049 Valid accuracy : 0.6278\n",
      "Epoch 27, CIFAR-10 Batch 4:  log loss  : 1.02561 Valid accuracy : 0.632\n",
      "Epoch 27, CIFAR-10 Batch 5:  log loss  : 1.03356 Valid accuracy : 0.635\n",
      "Epoch 28, CIFAR-10 Batch 1:  log loss  : 1.04285 Valid accuracy : 0.6286\n",
      "Epoch 28, CIFAR-10 Batch 2:  log loss  : 1.06246 Valid accuracy : 0.6176\n",
      "Epoch 28, CIFAR-10 Batch 3:  log loss  : 1.032 Valid accuracy : 0.6264\n",
      "Epoch 28, CIFAR-10 Batch 4:  log loss  : 1.0404 Valid accuracy : 0.6284\n",
      "Epoch 28, CIFAR-10 Batch 5:  log loss  : 1.04234 Valid accuracy : 0.6312\n",
      "Epoch 29, CIFAR-10 Batch 1:  log loss  : 1.03136 Valid accuracy : 0.6268\n",
      "Epoch 29, CIFAR-10 Batch 2:  log loss  : 1.04708 Valid accuracy : 0.6304\n",
      "Epoch 29, CIFAR-10 Batch 3:  log loss  : 1.02382 Valid accuracy : 0.6322\n",
      "Epoch 29, CIFAR-10 Batch 4:  log loss  : 1.02448 Valid accuracy : 0.6272\n",
      "Epoch 29, CIFAR-10 Batch 5:  log loss  : 1.03201 Valid accuracy : 0.6388\n",
      "Epoch 30, CIFAR-10 Batch 1:  log loss  : 1.02991 Valid accuracy : 0.631\n",
      "Epoch 30, CIFAR-10 Batch 2:  log loss  : 1.04975 Valid accuracy : 0.6264\n",
      "Epoch 30, CIFAR-10 Batch 3:  log loss  : 1.02197 Valid accuracy : 0.636\n",
      "Epoch 30, CIFAR-10 Batch 4:  log loss  : 1.01127 Valid accuracy : 0.6394\n",
      "Epoch 30, CIFAR-10 Batch 5:  log loss  : 1.03804 Valid accuracy : 0.6278\n",
      "Epoch 31, CIFAR-10 Batch 1:  log loss  : 1.01865 Valid accuracy : 0.6408\n",
      "Epoch 31, CIFAR-10 Batch 2:  log loss  : 1.05682 Valid accuracy : 0.6244\n",
      "Epoch 31, CIFAR-10 Batch 3:  log loss  : 1.0244 Valid accuracy : 0.633\n",
      "Epoch 31, CIFAR-10 Batch 4:  log loss  : 1.01269 Valid accuracy : 0.6378\n",
      "Epoch 31, CIFAR-10 Batch 5:  log loss  : 1.02914 Valid accuracy : 0.642\n",
      "Epoch 32, CIFAR-10 Batch 1:  log loss  : 1.02541 Valid accuracy : 0.634\n",
      "Epoch 32, CIFAR-10 Batch 2:  log loss  : 1.03297 Valid accuracy : 0.637\n",
      "Epoch 32, CIFAR-10 Batch 3:  log loss  : 1.0173 Valid accuracy : 0.637\n",
      "Epoch 32, CIFAR-10 Batch 4:  log loss  : 1.01509 Valid accuracy : 0.6374\n",
      "Epoch 32, CIFAR-10 Batch 5:  log loss  : 1.03125 Valid accuracy : 0.6278\n",
      "Epoch 33, CIFAR-10 Batch 1:  log loss  : 1.01181 Valid accuracy : 0.6386\n",
      "Epoch 33, CIFAR-10 Batch 2:  log loss  : 1.04931 Valid accuracy : 0.6292\n",
      "Epoch 33, CIFAR-10 Batch 3:  log loss  : 1.01049 Valid accuracy : 0.6394\n",
      "Epoch 33, CIFAR-10 Batch 4:  log loss  : 1.01268 Valid accuracy : 0.6342\n",
      "Epoch 33, CIFAR-10 Batch 5:  log loss  : 1.01583 Valid accuracy : 0.6428\n",
      "Epoch 34, CIFAR-10 Batch 1:  log loss  : 1.00799 Valid accuracy : 0.6402\n",
      "Epoch 34, CIFAR-10 Batch 2:  log loss  : 1.03681 Valid accuracy : 0.6338\n",
      "Epoch 34, CIFAR-10 Batch 3:  log loss  : 1.03252 Valid accuracy : 0.6352\n",
      "Epoch 34, CIFAR-10 Batch 4:  log loss  : 1.00999 Valid accuracy : 0.635\n",
      "Epoch 34, CIFAR-10 Batch 5:  log loss  : 1.02074 Valid accuracy : 0.6356\n",
      "Epoch 35, CIFAR-10 Batch 1:  log loss  : 1.01604 Valid accuracy : 0.6376\n",
      "Epoch 35, CIFAR-10 Batch 2:  log loss  : 1.02285 Valid accuracy : 0.6396\n",
      "Epoch 35, CIFAR-10 Batch 3:  log loss  : 1.0047 Valid accuracy : 0.6418\n",
      "Epoch 35, CIFAR-10 Batch 4:  log loss  : 1.02579 Valid accuracy : 0.6298\n",
      "Epoch 35, CIFAR-10 Batch 5:  log loss  : 1.01586 Valid accuracy : 0.6458\n",
      "Epoch 36, CIFAR-10 Batch 1:  log loss  : 1.00768 Valid accuracy : 0.6418\n",
      "Epoch 36, CIFAR-10 Batch 2:  log loss  : 1.02645 Valid accuracy : 0.6344\n",
      "Epoch 36, CIFAR-10 Batch 3:  log loss  : 1.00043 Valid accuracy : 0.6418\n",
      "Epoch 36, CIFAR-10 Batch 4:  log loss  : 1.00951 Valid accuracy : 0.6428\n",
      "Epoch 36, CIFAR-10 Batch 5:  log loss  : 1.00493 Valid accuracy : 0.6442\n",
      "Epoch 37, CIFAR-10 Batch 1:  log loss  : 1.00375 Valid accuracy : 0.6442\n",
      "Epoch 37, CIFAR-10 Batch 2:  log loss  : 1.02135 Valid accuracy : 0.646\n",
      "Epoch 37, CIFAR-10 Batch 3:  log loss  : 1.00085 Valid accuracy : 0.6436\n",
      "Epoch 37, CIFAR-10 Batch 4:  log loss  : 1.01818 Valid accuracy : 0.6382\n",
      "Epoch 37, CIFAR-10 Batch 5:  log loss  : 1.00655 Valid accuracy : 0.6422\n",
      "Epoch 38, CIFAR-10 Batch 1:  log loss  : 1.00707 Valid accuracy : 0.6424\n",
      "Epoch 38, CIFAR-10 Batch 2:  log loss  : 1.03437 Valid accuracy : 0.6386\n",
      "Epoch 38, CIFAR-10 Batch 3:  log loss  : 0.997423 Valid accuracy : 0.6422\n",
      "Epoch 38, CIFAR-10 Batch 4:  log loss  : 1.00222 Valid accuracy : 0.6404\n",
      "Epoch 38, CIFAR-10 Batch 5:  log loss  : 1.01416 Valid accuracy : 0.6426\n",
      "Epoch 39, CIFAR-10 Batch 1:  log loss  : 1.01434 Valid accuracy : 0.644\n",
      "Epoch 39, CIFAR-10 Batch 2:  log loss  : 1.01032 Valid accuracy : 0.6368\n",
      "Epoch 39, CIFAR-10 Batch 3:  log loss  : 1.00368 Valid accuracy : 0.6406\n",
      "Epoch 39, CIFAR-10 Batch 4:  log loss  : 0.994244 Valid accuracy : 0.6462\n",
      "Epoch 39, CIFAR-10 Batch 5:  log loss  : 1.00537 Valid accuracy : 0.6416\n",
      "Epoch 40, CIFAR-10 Batch 1:  log loss  : 1.00563 Valid accuracy : 0.6442\n",
      "Epoch 40, CIFAR-10 Batch 2:  log loss  : 1.02221 Valid accuracy : 0.6418\n",
      "Epoch 40, CIFAR-10 Batch 3:  log loss  : 0.986628 Valid accuracy : 0.6462\n",
      "Epoch 40, CIFAR-10 Batch 4:  log loss  : 0.991646 Valid accuracy : 0.6508\n",
      "Epoch 40, CIFAR-10 Batch 5:  log loss  : 1.00139 Valid accuracy : 0.648\n",
      "Epoch 41, CIFAR-10 Batch 1:  log loss  : 0.992893 Valid accuracy : 0.6446\n",
      "Epoch 41, CIFAR-10 Batch 2:  log loss  : 1.01689 Valid accuracy : 0.6448\n",
      "Epoch 41, CIFAR-10 Batch 3:  log loss  : 0.998087 Valid accuracy : 0.646\n",
      "Epoch 41, CIFAR-10 Batch 4:  log loss  : 1.00189 Valid accuracy : 0.6496\n",
      "Epoch 41, CIFAR-10 Batch 5:  log loss  : 1.01539 Valid accuracy : 0.6394\n",
      "Epoch 42, CIFAR-10 Batch 1:  log loss  : 0.993238 Valid accuracy : 0.6494\n",
      "Epoch 42, CIFAR-10 Batch 2:  log loss  : 1.01118 Valid accuracy : 0.649\n",
      "Epoch 42, CIFAR-10 Batch 3:  log loss  : 0.999161 Valid accuracy : 0.6474\n",
      "Epoch 42, CIFAR-10 Batch 4:  log loss  : 0.990374 Valid accuracy : 0.6464\n",
      "Epoch 42, CIFAR-10 Batch 5:  log loss  : 1.00931 Valid accuracy : 0.6452\n",
      "Epoch 43, CIFAR-10 Batch 1:  log loss  : 0.993001 Valid accuracy : 0.6442\n",
      "Epoch 43, CIFAR-10 Batch 2:  log loss  : 1.01926 Valid accuracy : 0.6462\n",
      "Epoch 43, CIFAR-10 Batch 3:  log loss  : 0.992318 Valid accuracy : 0.648\n",
      "Epoch 43, CIFAR-10 Batch 4:  log loss  : 0.992787 Valid accuracy : 0.6486\n",
      "Epoch 43, CIFAR-10 Batch 5:  log loss  : 1.00055 Valid accuracy : 0.6474\n",
      "Epoch 44, CIFAR-10 Batch 1:  log loss  : 1.00701 Valid accuracy : 0.6432\n",
      "Epoch 44, CIFAR-10 Batch 2:  log loss  : 1.00725 Valid accuracy : 0.6492\n",
      "Epoch 44, CIFAR-10 Batch 3:  log loss  : 1.01164 Valid accuracy : 0.6424\n",
      "Epoch 44, CIFAR-10 Batch 4:  log loss  : 0.998084 Valid accuracy : 0.6504\n",
      "Epoch 44, CIFAR-10 Batch 5:  log loss  : 1.00184 Valid accuracy : 0.6472\n",
      "Epoch 45, CIFAR-10 Batch 1:  log loss  : 1.00436 Valid accuracy : 0.6462\n",
      "Epoch 45, CIFAR-10 Batch 2:  log loss  : 1.01813 Valid accuracy : 0.6458\n",
      "Epoch 45, CIFAR-10 Batch 3:  log loss  : 0.990195 Valid accuracy : 0.6468\n",
      "Epoch 45, CIFAR-10 Batch 4:  log loss  : 0.995928 Valid accuracy : 0.6486\n",
      "Epoch 45, CIFAR-10 Batch 5:  log loss  : 1.00297 Valid accuracy : 0.6448\n",
      "Epoch 46, CIFAR-10 Batch 1:  log loss  : 1.00739 Valid accuracy : 0.6406\n",
      "Epoch 46, CIFAR-10 Batch 2:  log loss  : 1.05383 Valid accuracy : 0.6302\n",
      "Epoch 46, CIFAR-10 Batch 3:  log loss  : 0.97799 Valid accuracy : 0.653\n",
      "Epoch 46, CIFAR-10 Batch 4:  log loss  : 0.988133 Valid accuracy : 0.6522\n",
      "Epoch 46, CIFAR-10 Batch 5:  log loss  : 1.02029 Valid accuracy : 0.6408\n",
      "Epoch 47, CIFAR-10 Batch 1:  log loss  : 0.990037 Valid accuracy : 0.6504\n",
      "Epoch 47, CIFAR-10 Batch 2:  log loss  : 1.00647 Valid accuracy : 0.6444\n",
      "Epoch 47, CIFAR-10 Batch 3:  log loss  : 0.998742 Valid accuracy : 0.6422\n",
      "Epoch 47, CIFAR-10 Batch 4:  log loss  : 1.00847 Valid accuracy : 0.6456\n",
      "Epoch 47, CIFAR-10 Batch 5:  log loss  : 1.00917 Valid accuracy : 0.644\n",
      "Epoch 48, CIFAR-10 Batch 1:  log loss  : 0.993667 Valid accuracy : 0.6482\n",
      "Epoch 48, CIFAR-10 Batch 2:  log loss  : 1.03487 Valid accuracy : 0.6418\n",
      "Epoch 48, CIFAR-10 Batch 3:  log loss  : 0.990555 Valid accuracy : 0.6518\n",
      "Epoch 48, CIFAR-10 Batch 4:  log loss  : 0.990353 Valid accuracy : 0.654\n",
      "Epoch 48, CIFAR-10 Batch 5:  log loss  : 1.01236 Valid accuracy : 0.6424\n",
      "Epoch 49, CIFAR-10 Batch 1:  log loss  : 0.994684 Valid accuracy : 0.6494\n",
      "Epoch 49, CIFAR-10 Batch 2:  log loss  : 1.0304 Valid accuracy : 0.6422\n",
      "Epoch 49, CIFAR-10 Batch 3:  log loss  : 0.995022 Valid accuracy : 0.6466\n",
      "Epoch 49, CIFAR-10 Batch 4:  log loss  : 0.996161 Valid accuracy : 0.6524\n",
      "Epoch 49, CIFAR-10 Batch 5:  log loss  : 1.00913 Valid accuracy : 0.646\n",
      "Epoch 50, CIFAR-10 Batch 1:  log loss  : 0.994981 Valid accuracy : 0.646\n",
      "Epoch 50, CIFAR-10 Batch 2:  log loss  : 1.00009 Valid accuracy : 0.6536\n",
      "Epoch 50, CIFAR-10 Batch 3:  log loss  : 0.991499 Valid accuracy : 0.6522\n",
      "Epoch 50, CIFAR-10 Batch 4:  log loss  : 1.01254 Valid accuracy : 0.6454\n",
      "Epoch 50, CIFAR-10 Batch 5:  log loss  : 0.992661 Valid accuracy : 0.6518\n"
     ]
    }
   ],
   "source": [
    "\"\"\"\n",
    "DON'T MODIFY ANYTHING IN THIS CELL\n",
    "\"\"\"\n",
    "save_model_path = './image_classification'\n",
    "\n",
    "print('Training...')\n",
    "with tf.Session() as sess:\n",
    "    # Initializing the variables\n",
    "    sess.run(tf.global_variables_initializer())\n",
    "    \n",
    "    # Training cycle\n",
    "    for epoch in range(epochs):\n",
    "        # Loop over all batches\n",
    "        n_batches = 5\n",
    "        for batch_i in range(1, n_batches + 1):\n",
    "            for batch_features, batch_labels in helper.load_preprocess_training_batch(batch_i, batch_size):\n",
    "                train_neural_network(sess, optimizer, keep_probability, batch_features, batch_labels)\n",
    "            print('Epoch {:>2}, CIFAR-10 Batch {}:  '.format(epoch + 1, batch_i), end='')\n",
    "            print_stats(sess, batch_features, batch_labels, cost, accuracy)\n",
    "            \n",
    "    # Save Model\n",
    "    saver = tf.train.Saver()\n",
    "    save_path = saver.save(sess, save_model_path)"
   ]
  },
  {
   "cell_type": "markdown",
   "metadata": {
    "deletable": true,
    "editable": true
   },
   "source": [
    "# Checkpoint\n",
    "The model has been saved to disk.\n",
    "## Test Model\n",
    "Test your model against the test dataset.  This will be your final accuracy. You should have an accuracy greater than 50%. If you don't, keep tweaking the model architecture and parameters."
   ]
  },
  {
   "cell_type": "code",
   "execution_count": 52,
   "metadata": {
    "collapsed": false,
    "deletable": true,
    "editable": true
   },
   "outputs": [
    {
     "name": "stdout",
     "output_type": "stream",
     "text": [
      "Testing Accuracy: 0.647265625\n",
      "\n"
     ]
    },
    {
     "data": {
      "image/png": "[encoded data removed]",
      "text/plain": [
       "<matplotlib.figure.Figure at 0x1a001b5ae80>"
      ]
     },
     "metadata": {
      "image/png": {
       "height": 319,
       "width": 355
      }
     },
     "output_type": "display_data"
    }
   ],
   "source": [
    "\"\"\"\n",
    "DON'T MODIFY ANYTHING IN THIS CELL\n",
    "\"\"\"\n",
    "%matplotlib inline\n",
    "%config InlineBackend.figure_format = 'retina'\n",
    "\n",
    "import tensorflow as tf\n",
    "import pickle\n",
    "import helper\n",
    "import random\n",
    "\n",
    "# Set batch size if not already set\n",
    "try:\n",
    "    if batch_size:\n",
    "        pass\n",
    "except NameError:\n",
    "    batch_size = 64\n",
    "\n",
    "save_model_path = './image_classification'\n",
    "n_samples = 4\n",
    "top_n_predictions = 3\n",
    "\n",
    "def test_model():\n",
    "    \"\"\"\n",
    "    Test the saved model against the test dataset\n",
    "    \"\"\"\n",
    "\n",
    "    test_features, test_labels = pickle.load(open('preprocess_training.p', mode='rb'))\n",
    "    loaded_graph = tf.Graph()\n",
    "\n",
    "    with tf.Session(graph=loaded_graph) as sess:\n",
    "        # Load model\n",
    "        loader = tf.train.import_meta_graph(save_model_path + '.meta')\n",
    "        loader.restore(sess, save_model_path)\n",
    "\n",
    "        # Get Tensors from loaded model\n",
    "        loaded_x = loaded_graph.get_tensor_by_name('x:0')\n",
    "        loaded_y = loaded_graph.get_tensor_by_name('y:0')\n",
    "        loaded_keep_prob = loaded_graph.get_tensor_by_name('keep_prob:0')\n",
    "        loaded_logits = loaded_graph.get_tensor_by_name('logits:0')\n",
    "        loaded_acc = loaded_graph.get_tensor_by_name('accuracy:0')\n",
    "        \n",
    "        # Get accuracy in batches for memory limitations\n",
    "        test_batch_acc_total = 0\n",
    "        test_batch_count = 0\n",
    "        \n",
    "        for train_feature_batch, train_label_batch in helper.batch_features_labels(test_features, test_labels, batch_size):\n",
    "            test_batch_acc_total += sess.run(\n",
    "                loaded_acc,\n",
    "                feed_dict={loaded_x: train_feature_batch, loaded_y: train_label_batch, loaded_keep_prob: 1.0})\n",
    "            test_batch_count += 1\n",
    "\n",
    "        print('Testing Accuracy: {}\\n'.format(test_batch_acc_total/test_batch_count))\n",
    "\n",
    "        # Print Random Samples\n",
    "        random_test_features, random_test_labels = tuple(zip(*random.sample(list(zip(test_features, test_labels)), n_samples)))\n",
    "        random_test_predictions = sess.run(\n",
    "            tf.nn.top_k(tf.nn.softmax(loaded_logits), top_n_predictions),\n",
    "            feed_dict={loaded_x: random_test_features, loaded_y: random_test_labels, loaded_keep_prob: 1.0})\n",
    "        helper.display_image_predictions(random_test_features, random_test_labels, random_test_predictions)\n",
    "\n",
    "\n",
    "test_model()"
   ]
  },
  {
   "cell_type": "markdown",
   "metadata": {
    "deletable": true,
    "editable": true
   },
   "source": [
    "## Why 50-70% Accuracy?\n",
    "You might be wondering why you can't get an accuracy any higher. First things first, 50% isn't bad for a simple CNN.  Pure guessing would get you 10% accuracy. However, you might notice people are getting scores [well above 70%](http://rodrigob.github.io/are_we_there_yet/build/classification_datasets_results.html#43494641522d3130).  That's because we haven't taught you all there is to know about neural networks. We still need to cover a few more techniques.\n",
    "## Submitting This Project\n",
    "When submitting this project, make sure to run all the cells before saving the notebook.  Save the notebook file as \"dlnd_image_classification.ipynb\" and save it as a HTML file under \"File\" -> \"Download as\".  Include the \"helper.py\" and \"problem_unittests.py\" files in your submission."
   ]
  },
  {
   "cell_type": "markdown",
   "metadata": {},
   "source": [
    "# References \n",
    "- http://cs231n.github.io/convolutional-networks/\n",
    "\n",
    "- https://github.com/tensorflow/tensorflow/blob/master/tensorflow/examples/udacity/4_convolutions.ipynb\n"
   ]
  }
 ],
 "metadata": {
  "anaconda-cloud": {},
  "kernelspec": {
   "display_name": "Python [default]",
   "language": "python",
   "name": "python3"
  },
  "language_info": {
   "codemirror_mode": {
    "name": "ipython",
    "version": 3
   },
   "file_extension": ".py",
   "mimetype": "text/x-python",
   "name": "python",
   "nbconvert_exporter": "python",
   "pygments_lexer": "ipython3",
   "version": "3.5.2"
  }
 },
 "nbformat": 4,
 "nbformat_minor": 0
}
